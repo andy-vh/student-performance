{
 "cells": [
  {
   "cell_type": "markdown",
   "metadata": {},
   "source": [
    "# Exploratory Data Analysis\n",
    "\n",
    "In this specific project, I want to learn more about the factors that affect outcomes in education. I found a dataset on [UCI's machine learning repository](https://archive.ics.uci.edu/ml/datasets/Student+Performance) containing academic information on students at two Portugese schools relating to two particular subjects: Portuguese and mathematics. In any data related project, the first step is to understand the data; so this notebook goes over that step of exploratory data analysis."
   ]
  },
  {
   "cell_type": "markdown",
   "metadata": {},
   "source": [
    "## Imports"
   ]
  },
  {
   "cell_type": "code",
   "execution_count": 1,
   "metadata": {},
   "outputs": [],
   "source": [
    "import numpy as np\n",
    "import pandas as pd\n",
    "\n",
    "import matplotlib.pyplot as plt\n",
    "import seaborn as sns\n",
    "%matplotlib inline"
   ]
  },
  {
   "cell_type": "markdown",
   "metadata": {},
   "source": [
    "## Dataset Summary\n",
    "File \"student.txt\" was provided with the dataset."
   ]
  },
  {
   "cell_type": "code",
   "execution_count": 9,
   "metadata": {
    "scrolled": false
   },
   "outputs": [
    {
     "name": "stdout",
     "output_type": "stream",
     "text": [
      "# Attributes for both student-mat.csv (Math course) and student-por.csv (Portuguese language course) datasets:\n",
      "1 school - student's school (binary: \"GP\" - Gabriel Pereira or \"MS\" - Mousinho da Silveira)\n",
      "2 sex - student's sex (binary: \"F\" - female or \"M\" - male)\n",
      "3 age - student's age (numeric: from 15 to 22)\n",
      "4 address - student's home address type (binary: \"U\" - urban or \"R\" - rural)\n",
      "5 famsize - family size (binary: \"LE3\" - less or equal to 3 or \"GT3\" - greater than 3)\n",
      "6 Pstatus - parent's cohabitation status (binary: \"T\" - living together or \"A\" - apart)\n",
      "7 Medu - mother's education (numeric: 0 - none,  1 - primary education (4th grade), 2 â€“ 5th to 9th grade, 3 â€“ secondary education or 4 â€“ higher education)\n",
      "8 Fedu - father's education (numeric: 0 - none,  1 - primary education (4th grade), 2 â€“ 5th to 9th grade, 3 â€“ secondary education or 4 â€“ higher education)\n",
      "9 Mjob - mother's job (nominal: \"teacher\", \"health\" care related, civil \"services\" (e.g. administrative or police), \"at_home\" or \"other\")\n",
      "10 Fjob - father's job (nominal: \"teacher\", \"health\" care related, civil \"services\" (e.g. administrative or police), \"at_home\" or \"other\")\n",
      "11 reason - reason to choose this school (nominal: close to \"home\", school \"reputation\", \"course\" preference or \"other\")\n",
      "12 guardian - student's guardian (nominal: \"mother\", \"father\" or \"other\")\n",
      "13 traveltime - home to school travel time (numeric: 1 - <15 min., 2 - 15 to 30 min., 3 - 30 min. to 1 hour, or 4 - >1 hour)\n",
      "14 studytime - weekly study time (numeric: 1 - <2 hours, 2 - 2 to 5 hours, 3 - 5 to 10 hours, or 4 - >10 hours)\n",
      "15 failures - number of past class failures (numeric: n if 1<=n<3, else 4)\n",
      "16 schoolsup - extra educational support (binary: yes or no)\n",
      "17 famsup - family educational support (binary: yes or no)\n",
      "18 paid - extra paid classes within the course subject (Math or Portuguese) (binary: yes or no)\n",
      "19 activities - extra-curricular activities (binary: yes or no)\n",
      "20 nursery - attended nursery school (binary: yes or no)\n",
      "21 higher - wants to take higher education (binary: yes or no)\n",
      "22 internet - Internet access at home (binary: yes or no)\n",
      "23 romantic - with a romantic relationship (binary: yes or no)\n",
      "24 famrel - quality of family relationships (numeric: from 1 - very bad to 5 - excellent)\n",
      "25 freetime - free time after school (numeric: from 1 - very low to 5 - very high)\n",
      "26 goout - going out with friends (numeric: from 1 - very low to 5 - very high)\n",
      "27 Dalc - workday alcohol consumption (numeric: from 1 - very low to 5 - very high)\n",
      "28 Walc - weekend alcohol consumption (numeric: from 1 - very low to 5 - very high)\n",
      "29 health - current health status (numeric: from 1 - very bad to 5 - very good)\n",
      "30 absences - number of school absences (numeric: from 0 to 93)\n",
      "\n",
      "# these grades are related with the course subject, Math or Portuguese:\n",
      "31 G1 - first period grade (numeric: from 0 to 20)\n",
      "31 G2 - second period grade (numeric: from 0 to 20)\n",
      "32 G3 - final grade (numeric: from 0 to 20, output target)\n",
      "\n",
      "Additional note: there are several (382) students that belong to both datasets . \n",
      "These students can be identified by searching for identical attributes\n",
      "that characterize each student, as shown in the annexed R file.\n",
      "\n"
     ]
    }
   ],
   "source": [
    "mat_df = pd.read_csv('../data/student-mat.csv', sep=';')\n",
    "por_df = pd.read_csv('../data/student-por.csv', sep=';')\n",
    "\n",
    "f = open('../data/student.txt', 'r')\n",
    "print(f.read())"
   ]
  },
  {
   "cell_type": "code",
   "execution_count": 21,
   "metadata": {},
   "outputs": [
    {
     "data": {
      "text/html": [
       "<div>\n",
       "<style scoped>\n",
       "    .dataframe tbody tr th:only-of-type {\n",
       "        vertical-align: middle;\n",
       "    }\n",
       "\n",
       "    .dataframe tbody tr th {\n",
       "        vertical-align: top;\n",
       "    }\n",
       "\n",
       "    .dataframe thead th {\n",
       "        text-align: right;\n",
       "    }\n",
       "</style>\n",
       "<table border=\"1\" class=\"dataframe\">\n",
       "  <thead>\n",
       "    <tr style=\"text-align: right;\">\n",
       "      <th></th>\n",
       "      <th>age</th>\n",
       "      <th>Medu</th>\n",
       "      <th>Fedu</th>\n",
       "      <th>traveltime</th>\n",
       "      <th>studytime</th>\n",
       "      <th>failures</th>\n",
       "      <th>famrel</th>\n",
       "      <th>freetime</th>\n",
       "      <th>goout</th>\n",
       "      <th>Dalc</th>\n",
       "      <th>Walc</th>\n",
       "      <th>health</th>\n",
       "      <th>absences</th>\n",
       "      <th>G1</th>\n",
       "      <th>G2</th>\n",
       "      <th>G3</th>\n",
       "    </tr>\n",
       "  </thead>\n",
       "  <tbody>\n",
       "    <tr>\n",
       "      <th>count</th>\n",
       "      <td>395.00</td>\n",
       "      <td>395.00</td>\n",
       "      <td>395.00</td>\n",
       "      <td>395.00</td>\n",
       "      <td>395.00</td>\n",
       "      <td>395.00</td>\n",
       "      <td>395.00</td>\n",
       "      <td>395.00</td>\n",
       "      <td>395.00</td>\n",
       "      <td>395.00</td>\n",
       "      <td>395.00</td>\n",
       "      <td>395.00</td>\n",
       "      <td>395.00</td>\n",
       "      <td>395.00</td>\n",
       "      <td>395.00</td>\n",
       "      <td>395.00</td>\n",
       "    </tr>\n",
       "    <tr>\n",
       "      <th>mean</th>\n",
       "      <td>16.70</td>\n",
       "      <td>2.75</td>\n",
       "      <td>2.52</td>\n",
       "      <td>1.45</td>\n",
       "      <td>2.04</td>\n",
       "      <td>0.33</td>\n",
       "      <td>3.94</td>\n",
       "      <td>3.24</td>\n",
       "      <td>3.11</td>\n",
       "      <td>1.48</td>\n",
       "      <td>2.29</td>\n",
       "      <td>3.55</td>\n",
       "      <td>5.71</td>\n",
       "      <td>10.91</td>\n",
       "      <td>10.71</td>\n",
       "      <td>10.42</td>\n",
       "    </tr>\n",
       "    <tr>\n",
       "      <th>std</th>\n",
       "      <td>1.28</td>\n",
       "      <td>1.09</td>\n",
       "      <td>1.09</td>\n",
       "      <td>0.70</td>\n",
       "      <td>0.84</td>\n",
       "      <td>0.74</td>\n",
       "      <td>0.90</td>\n",
       "      <td>1.00</td>\n",
       "      <td>1.11</td>\n",
       "      <td>0.89</td>\n",
       "      <td>1.29</td>\n",
       "      <td>1.39</td>\n",
       "      <td>8.00</td>\n",
       "      <td>3.32</td>\n",
       "      <td>3.76</td>\n",
       "      <td>4.58</td>\n",
       "    </tr>\n",
       "    <tr>\n",
       "      <th>min</th>\n",
       "      <td>15.00</td>\n",
       "      <td>0.00</td>\n",
       "      <td>0.00</td>\n",
       "      <td>1.00</td>\n",
       "      <td>1.00</td>\n",
       "      <td>0.00</td>\n",
       "      <td>1.00</td>\n",
       "      <td>1.00</td>\n",
       "      <td>1.00</td>\n",
       "      <td>1.00</td>\n",
       "      <td>1.00</td>\n",
       "      <td>1.00</td>\n",
       "      <td>0.00</td>\n",
       "      <td>3.00</td>\n",
       "      <td>0.00</td>\n",
       "      <td>0.00</td>\n",
       "    </tr>\n",
       "    <tr>\n",
       "      <th>25%</th>\n",
       "      <td>16.00</td>\n",
       "      <td>2.00</td>\n",
       "      <td>2.00</td>\n",
       "      <td>1.00</td>\n",
       "      <td>1.00</td>\n",
       "      <td>0.00</td>\n",
       "      <td>4.00</td>\n",
       "      <td>3.00</td>\n",
       "      <td>2.00</td>\n",
       "      <td>1.00</td>\n",
       "      <td>1.00</td>\n",
       "      <td>3.00</td>\n",
       "      <td>0.00</td>\n",
       "      <td>8.00</td>\n",
       "      <td>9.00</td>\n",
       "      <td>8.00</td>\n",
       "    </tr>\n",
       "    <tr>\n",
       "      <th>50%</th>\n",
       "      <td>17.00</td>\n",
       "      <td>3.00</td>\n",
       "      <td>2.00</td>\n",
       "      <td>1.00</td>\n",
       "      <td>2.00</td>\n",
       "      <td>0.00</td>\n",
       "      <td>4.00</td>\n",
       "      <td>3.00</td>\n",
       "      <td>3.00</td>\n",
       "      <td>1.00</td>\n",
       "      <td>2.00</td>\n",
       "      <td>4.00</td>\n",
       "      <td>4.00</td>\n",
       "      <td>11.00</td>\n",
       "      <td>11.00</td>\n",
       "      <td>11.00</td>\n",
       "    </tr>\n",
       "    <tr>\n",
       "      <th>75%</th>\n",
       "      <td>18.00</td>\n",
       "      <td>4.00</td>\n",
       "      <td>3.00</td>\n",
       "      <td>2.00</td>\n",
       "      <td>2.00</td>\n",
       "      <td>0.00</td>\n",
       "      <td>5.00</td>\n",
       "      <td>4.00</td>\n",
       "      <td>4.00</td>\n",
       "      <td>2.00</td>\n",
       "      <td>3.00</td>\n",
       "      <td>5.00</td>\n",
       "      <td>8.00</td>\n",
       "      <td>13.00</td>\n",
       "      <td>13.00</td>\n",
       "      <td>14.00</td>\n",
       "    </tr>\n",
       "    <tr>\n",
       "      <th>max</th>\n",
       "      <td>22.00</td>\n",
       "      <td>4.00</td>\n",
       "      <td>4.00</td>\n",
       "      <td>4.00</td>\n",
       "      <td>4.00</td>\n",
       "      <td>3.00</td>\n",
       "      <td>5.00</td>\n",
       "      <td>5.00</td>\n",
       "      <td>5.00</td>\n",
       "      <td>5.00</td>\n",
       "      <td>5.00</td>\n",
       "      <td>5.00</td>\n",
       "      <td>75.00</td>\n",
       "      <td>19.00</td>\n",
       "      <td>19.00</td>\n",
       "      <td>20.00</td>\n",
       "    </tr>\n",
       "  </tbody>\n",
       "</table>\n",
       "</div>"
      ],
      "text/plain": [
       "          age    Medu    Fedu  traveltime  studytime  failures  famrel  \\\n",
       "count  395.00  395.00  395.00      395.00     395.00    395.00  395.00   \n",
       "mean    16.70    2.75    2.52        1.45       2.04      0.33    3.94   \n",
       "std      1.28    1.09    1.09        0.70       0.84      0.74    0.90   \n",
       "min     15.00    0.00    0.00        1.00       1.00      0.00    1.00   \n",
       "25%     16.00    2.00    2.00        1.00       1.00      0.00    4.00   \n",
       "50%     17.00    3.00    2.00        1.00       2.00      0.00    4.00   \n",
       "75%     18.00    4.00    3.00        2.00       2.00      0.00    5.00   \n",
       "max     22.00    4.00    4.00        4.00       4.00      3.00    5.00   \n",
       "\n",
       "       freetime   goout    Dalc    Walc  health  absences      G1      G2  \\\n",
       "count    395.00  395.00  395.00  395.00  395.00    395.00  395.00  395.00   \n",
       "mean       3.24    3.11    1.48    2.29    3.55      5.71   10.91   10.71   \n",
       "std        1.00    1.11    0.89    1.29    1.39      8.00    3.32    3.76   \n",
       "min        1.00    1.00    1.00    1.00    1.00      0.00    3.00    0.00   \n",
       "25%        3.00    2.00    1.00    1.00    3.00      0.00    8.00    9.00   \n",
       "50%        3.00    3.00    1.00    2.00    4.00      4.00   11.00   11.00   \n",
       "75%        4.00    4.00    2.00    3.00    5.00      8.00   13.00   13.00   \n",
       "max        5.00    5.00    5.00    5.00    5.00     75.00   19.00   19.00   \n",
       "\n",
       "           G3  \n",
       "count  395.00  \n",
       "mean    10.42  \n",
       "std      4.58  \n",
       "min      0.00  \n",
       "25%      8.00  \n",
       "50%     11.00  \n",
       "75%     14.00  \n",
       "max     20.00  "
      ]
     },
     "execution_count": 21,
     "metadata": {},
     "output_type": "execute_result"
    }
   ],
   "source": [
    "mat_df.describe().round(2)"
   ]
  },
  {
   "cell_type": "code",
   "execution_count": 22,
   "metadata": {
    "scrolled": true
   },
   "outputs": [
    {
     "data": {
      "text/html": [
       "<div>\n",
       "<style scoped>\n",
       "    .dataframe tbody tr th:only-of-type {\n",
       "        vertical-align: middle;\n",
       "    }\n",
       "\n",
       "    .dataframe tbody tr th {\n",
       "        vertical-align: top;\n",
       "    }\n",
       "\n",
       "    .dataframe thead th {\n",
       "        text-align: right;\n",
       "    }\n",
       "</style>\n",
       "<table border=\"1\" class=\"dataframe\">\n",
       "  <thead>\n",
       "    <tr style=\"text-align: right;\">\n",
       "      <th></th>\n",
       "      <th>age</th>\n",
       "      <th>Medu</th>\n",
       "      <th>Fedu</th>\n",
       "      <th>traveltime</th>\n",
       "      <th>studytime</th>\n",
       "      <th>failures</th>\n",
       "      <th>famrel</th>\n",
       "      <th>freetime</th>\n",
       "      <th>goout</th>\n",
       "      <th>Dalc</th>\n",
       "      <th>Walc</th>\n",
       "      <th>health</th>\n",
       "      <th>absences</th>\n",
       "      <th>G1</th>\n",
       "      <th>G2</th>\n",
       "      <th>G3</th>\n",
       "    </tr>\n",
       "  </thead>\n",
       "  <tbody>\n",
       "    <tr>\n",
       "      <th>count</th>\n",
       "      <td>649.00</td>\n",
       "      <td>649.00</td>\n",
       "      <td>649.00</td>\n",
       "      <td>649.00</td>\n",
       "      <td>649.00</td>\n",
       "      <td>649.00</td>\n",
       "      <td>649.00</td>\n",
       "      <td>649.00</td>\n",
       "      <td>649.00</td>\n",
       "      <td>649.00</td>\n",
       "      <td>649.00</td>\n",
       "      <td>649.00</td>\n",
       "      <td>649.00</td>\n",
       "      <td>649.00</td>\n",
       "      <td>649.00</td>\n",
       "      <td>649.00</td>\n",
       "    </tr>\n",
       "    <tr>\n",
       "      <th>mean</th>\n",
       "      <td>16.74</td>\n",
       "      <td>2.51</td>\n",
       "      <td>2.31</td>\n",
       "      <td>1.57</td>\n",
       "      <td>1.93</td>\n",
       "      <td>0.22</td>\n",
       "      <td>3.93</td>\n",
       "      <td>3.18</td>\n",
       "      <td>3.18</td>\n",
       "      <td>1.50</td>\n",
       "      <td>2.28</td>\n",
       "      <td>3.54</td>\n",
       "      <td>3.66</td>\n",
       "      <td>11.40</td>\n",
       "      <td>11.57</td>\n",
       "      <td>11.91</td>\n",
       "    </tr>\n",
       "    <tr>\n",
       "      <th>std</th>\n",
       "      <td>1.22</td>\n",
       "      <td>1.13</td>\n",
       "      <td>1.10</td>\n",
       "      <td>0.75</td>\n",
       "      <td>0.83</td>\n",
       "      <td>0.59</td>\n",
       "      <td>0.96</td>\n",
       "      <td>1.05</td>\n",
       "      <td>1.18</td>\n",
       "      <td>0.92</td>\n",
       "      <td>1.28</td>\n",
       "      <td>1.45</td>\n",
       "      <td>4.64</td>\n",
       "      <td>2.75</td>\n",
       "      <td>2.91</td>\n",
       "      <td>3.23</td>\n",
       "    </tr>\n",
       "    <tr>\n",
       "      <th>min</th>\n",
       "      <td>15.00</td>\n",
       "      <td>0.00</td>\n",
       "      <td>0.00</td>\n",
       "      <td>1.00</td>\n",
       "      <td>1.00</td>\n",
       "      <td>0.00</td>\n",
       "      <td>1.00</td>\n",
       "      <td>1.00</td>\n",
       "      <td>1.00</td>\n",
       "      <td>1.00</td>\n",
       "      <td>1.00</td>\n",
       "      <td>1.00</td>\n",
       "      <td>0.00</td>\n",
       "      <td>0.00</td>\n",
       "      <td>0.00</td>\n",
       "      <td>0.00</td>\n",
       "    </tr>\n",
       "    <tr>\n",
       "      <th>25%</th>\n",
       "      <td>16.00</td>\n",
       "      <td>2.00</td>\n",
       "      <td>1.00</td>\n",
       "      <td>1.00</td>\n",
       "      <td>1.00</td>\n",
       "      <td>0.00</td>\n",
       "      <td>4.00</td>\n",
       "      <td>3.00</td>\n",
       "      <td>2.00</td>\n",
       "      <td>1.00</td>\n",
       "      <td>1.00</td>\n",
       "      <td>2.00</td>\n",
       "      <td>0.00</td>\n",
       "      <td>10.00</td>\n",
       "      <td>10.00</td>\n",
       "      <td>10.00</td>\n",
       "    </tr>\n",
       "    <tr>\n",
       "      <th>50%</th>\n",
       "      <td>17.00</td>\n",
       "      <td>2.00</td>\n",
       "      <td>2.00</td>\n",
       "      <td>1.00</td>\n",
       "      <td>2.00</td>\n",
       "      <td>0.00</td>\n",
       "      <td>4.00</td>\n",
       "      <td>3.00</td>\n",
       "      <td>3.00</td>\n",
       "      <td>1.00</td>\n",
       "      <td>2.00</td>\n",
       "      <td>4.00</td>\n",
       "      <td>2.00</td>\n",
       "      <td>11.00</td>\n",
       "      <td>11.00</td>\n",
       "      <td>12.00</td>\n",
       "    </tr>\n",
       "    <tr>\n",
       "      <th>75%</th>\n",
       "      <td>18.00</td>\n",
       "      <td>4.00</td>\n",
       "      <td>3.00</td>\n",
       "      <td>2.00</td>\n",
       "      <td>2.00</td>\n",
       "      <td>0.00</td>\n",
       "      <td>5.00</td>\n",
       "      <td>4.00</td>\n",
       "      <td>4.00</td>\n",
       "      <td>2.00</td>\n",
       "      <td>3.00</td>\n",
       "      <td>5.00</td>\n",
       "      <td>6.00</td>\n",
       "      <td>13.00</td>\n",
       "      <td>13.00</td>\n",
       "      <td>14.00</td>\n",
       "    </tr>\n",
       "    <tr>\n",
       "      <th>max</th>\n",
       "      <td>22.00</td>\n",
       "      <td>4.00</td>\n",
       "      <td>4.00</td>\n",
       "      <td>4.00</td>\n",
       "      <td>4.00</td>\n",
       "      <td>3.00</td>\n",
       "      <td>5.00</td>\n",
       "      <td>5.00</td>\n",
       "      <td>5.00</td>\n",
       "      <td>5.00</td>\n",
       "      <td>5.00</td>\n",
       "      <td>5.00</td>\n",
       "      <td>32.00</td>\n",
       "      <td>19.00</td>\n",
       "      <td>19.00</td>\n",
       "      <td>19.00</td>\n",
       "    </tr>\n",
       "  </tbody>\n",
       "</table>\n",
       "</div>"
      ],
      "text/plain": [
       "          age    Medu    Fedu  traveltime  studytime  failures  famrel  \\\n",
       "count  649.00  649.00  649.00      649.00     649.00    649.00  649.00   \n",
       "mean    16.74    2.51    2.31        1.57       1.93      0.22    3.93   \n",
       "std      1.22    1.13    1.10        0.75       0.83      0.59    0.96   \n",
       "min     15.00    0.00    0.00        1.00       1.00      0.00    1.00   \n",
       "25%     16.00    2.00    1.00        1.00       1.00      0.00    4.00   \n",
       "50%     17.00    2.00    2.00        1.00       2.00      0.00    4.00   \n",
       "75%     18.00    4.00    3.00        2.00       2.00      0.00    5.00   \n",
       "max     22.00    4.00    4.00        4.00       4.00      3.00    5.00   \n",
       "\n",
       "       freetime   goout    Dalc    Walc  health  absences      G1      G2  \\\n",
       "count    649.00  649.00  649.00  649.00  649.00    649.00  649.00  649.00   \n",
       "mean       3.18    3.18    1.50    2.28    3.54      3.66   11.40   11.57   \n",
       "std        1.05    1.18    0.92    1.28    1.45      4.64    2.75    2.91   \n",
       "min        1.00    1.00    1.00    1.00    1.00      0.00    0.00    0.00   \n",
       "25%        3.00    2.00    1.00    1.00    2.00      0.00   10.00   10.00   \n",
       "50%        3.00    3.00    1.00    2.00    4.00      2.00   11.00   11.00   \n",
       "75%        4.00    4.00    2.00    3.00    5.00      6.00   13.00   13.00   \n",
       "max        5.00    5.00    5.00    5.00    5.00     32.00   19.00   19.00   \n",
       "\n",
       "           G3  \n",
       "count  649.00  \n",
       "mean    11.91  \n",
       "std      3.23  \n",
       "min      0.00  \n",
       "25%     10.00  \n",
       "50%     12.00  \n",
       "75%     14.00  \n",
       "max     19.00  "
      ]
     },
     "execution_count": 22,
     "metadata": {},
     "output_type": "execute_result"
    }
   ],
   "source": [
    "por_df.describe().round(2)"
   ]
  },
  {
   "cell_type": "code",
   "execution_count": 44,
   "metadata": {},
   "outputs": [
    {
     "data": {
      "text/plain": [
       "GP    349\n",
       "MS     46\n",
       "Name: school, dtype: int64"
      ]
     },
     "execution_count": 44,
     "metadata": {},
     "output_type": "execute_result"
    }
   ],
   "source": [
    "mat_df['school'].value_counts()"
   ]
  },
  {
   "cell_type": "code",
   "execution_count": 42,
   "metadata": {},
   "outputs": [
    {
     "data": {
      "text/plain": [
       "GP    423\n",
       "MS    226\n",
       "Name: school, dtype: int64"
      ]
     },
     "execution_count": 42,
     "metadata": {},
     "output_type": "execute_result"
    }
   ],
   "source": [
    "por_df['school'].value_counts()"
   ]
  },
  {
   "cell_type": "code",
   "execution_count": 45,
   "metadata": {},
   "outputs": [
    {
     "data": {
      "text/plain": [
       "F    208\n",
       "M    187\n",
       "Name: sex, dtype: int64"
      ]
     },
     "execution_count": 45,
     "metadata": {},
     "output_type": "execute_result"
    }
   ],
   "source": [
    "mat_df['sex'].value_counts()"
   ]
  },
  {
   "cell_type": "code",
   "execution_count": 46,
   "metadata": {},
   "outputs": [
    {
     "data": {
      "text/plain": [
       "F    383\n",
       "M    266\n",
       "Name: sex, dtype: int64"
      ]
     },
     "execution_count": 46,
     "metadata": {},
     "output_type": "execute_result"
    }
   ],
   "source": [
    "por_df['sex'].value_counts()"
   ]
  },
  {
   "cell_type": "markdown",
   "metadata": {},
   "source": [
    "# Plots"
   ]
  },
  {
   "cell_type": "markdown",
   "metadata": {},
   "source": [
    "## School"
   ]
  },
  {
   "cell_type": "code",
   "execution_count": 36,
   "metadata": {},
   "outputs": [
    {
     "data": {
      "image/png": "[encoded data removed]",
      "text/plain": [
       "<Figure size 360x360 with 1 Axes>"
      ]
     },
     "metadata": {
      "needs_background": "light"
     },
     "output_type": "display_data"
    }
   ],
   "source": [
    "_ = sns.catplot(x='school', y='G3', data=mat_df, kind='box')"
   ]
  },
  {
   "cell_type": "code",
   "execution_count": 49,
   "metadata": {},
   "outputs": [
    {
     "data": {
      "image/png": "[encoded data removed]",
      "text/plain": [
       "<Figure size 360x360 with 1 Axes>"
      ]
     },
     "metadata": {
      "needs_background": "light"
     },
     "output_type": "display_data"
    }
   ],
   "source": [
    "_ = sns.catplot(x='school', y='G3', data=por_df, kind='box')"
   ]
  },
  {
   "cell_type": "markdown",
   "metadata": {},
   "source": [
    "## Sex"
   ]
  },
  {
   "cell_type": "code",
   "execution_count": 14,
   "metadata": {},
   "outputs": [
    {
     "data": {
      "image/png": "[encoded data removed]",
      "text/plain": [
       "<Figure size 360x360 with 1 Axes>"
      ]
     },
     "metadata": {
      "needs_background": "light"
     },
     "output_type": "display_data"
    }
   ],
   "source": [
    "_ = sns.catplot(x='sex', y='G3', data=mat_df, kind='box')"
   ]
  },
  {
   "cell_type": "code",
   "execution_count": 15,
   "metadata": {},
   "outputs": [
    {
     "data": {
      "image/png": "[encoded data removed]",
      "text/plain": [
       "<Figure size 360x360 with 1 Axes>"
      ]
     },
     "metadata": {
      "needs_background": "light"
     },
     "output_type": "display_data"
    }
   ],
   "source": [
    "_ = sns.catplot(x='sex', y='G3', data=por_df, kind='box')"
   ]
  },
  {
   "cell_type": "markdown",
   "metadata": {},
   "source": [
    "## Internet"
   ]
  },
  {
   "cell_type": "code",
   "execution_count": 23,
   "metadata": {},
   "outputs": [
    {
     "data": {
      "image/png": "[encoded data removed]",
      "text/plain": [
       "<Figure size 360x360 with 1 Axes>"
      ]
     },
     "metadata": {
      "needs_background": "light"
     },
     "output_type": "display_data"
    }
   ],
   "source": [
    "_ = sns.catplot(x='internet', y='G3', data=mat_df, kind='box')"
   ]
  },
  {
   "cell_type": "code",
   "execution_count": 24,
   "metadata": {},
   "outputs": [
    {
     "data": {
      "image/png": "[encoded data removed]",
      "text/plain": [
       "<Figure size 360x360 with 1 Axes>"
      ]
     },
     "metadata": {
      "needs_background": "light"
     },
     "output_type": "display_data"
    }
   ],
   "source": [
    "_ = sns.catplot(x='internet', y='G3', data=por_df, kind='box')"
   ]
  },
  {
   "cell_type": "markdown",
   "metadata": {},
   "source": [
    "## Romantic"
   ]
  },
  {
   "cell_type": "code",
   "execution_count": 29,
   "metadata": {},
   "outputs": [
    {
     "data": {
      "image/png": "[encoded data removed]",
      "text/plain": [
       "<Figure size 360x360 with 1 Axes>"
      ]
     },
     "metadata": {
      "needs_background": "light"
     },
     "output_type": "display_data"
    }
   ],
   "source": [
    "_ = sns.catplot(x='romantic', y='G3', data=mat_df, kind='box')"
   ]
  },
  {
   "cell_type": "code",
   "execution_count": 30,
   "metadata": {
    "scrolled": false
   },
   "outputs": [
    {
     "data": {
      "image/png": "[encoded data removed]",
      "text/plain": [
       "<Figure size 360x360 with 1 Axes>"
      ]
     },
     "metadata": {
      "needs_background": "light"
     },
     "output_type": "display_data"
    }
   ],
   "source": [
    "_ = sns.catplot(x='romantic', y='G3', data=por_df, kind='box')"
   ]
  },
  {
   "cell_type": "markdown",
   "metadata": {},
   "source": [
    "## Health"
   ]
  },
  {
   "cell_type": "code",
   "execution_count": 34,
   "metadata": {},
   "outputs": [
    {
     "data": {
      "image/png": "[encoded data removed]",
      "text/plain": [
       "<Figure size 360x360 with 1 Axes>"
      ]
     },
     "metadata": {
      "needs_background": "light"
     },
     "output_type": "display_data"
    }
   ],
   "source": [
    "_ = sns.catplot(x='health', y='G3', data=mat_df, kind='box')"
   ]
  },
  {
   "cell_type": "code",
   "execution_count": 35,
   "metadata": {},
   "outputs": [
    {
     "data": {
      "image/png": "[encoded data removed]",
      "text/plain": [
       "<Figure size 360x360 with 1 Axes>"
      ]
     },
     "metadata": {
      "needs_background": "light"
     },
     "output_type": "display_data"
    }
   ],
   "source": [
    "_ = sns.catplot(x='health', y='G3', data=por_df, kind='box')"
   ]
  },
  {
   "cell_type": "markdown",
   "metadata": {},
   "source": [
    "# Findings\n",
    "I've included a few of the box plots that I found interesting (especially in regards to end-of-year grades), since going through and visualizing every relationship would just create a bunch of clutter. The most interesting variables to me so far are \"sex\" and \"internet\", which indicate students' sex and internet-access. \n",
    "\n",
    "It seems that the stereotype that I heard as an American student that boys perform better at math and girls performance better at reading/writing still holds even in Portugal. Gender stereotypes aside, the difference in performance between students with and without internet access demonstrates to me the importance that federal governments should be placing on increasing internet access for its people - especially children."
   ]
  }
 ],
 "metadata": {
  "kernelspec": {
   "display_name": "edu",
   "language": "python",
   "name": "edu"
  },
  "language_info": {
   "codemirror_mode": {
    "name": "ipython",
    "version": 3
   },
   "file_extension": ".py",
   "mimetype": "text/x-python",
   "name": "python",
   "nbconvert_exporter": "python",
   "pygments_lexer": "ipython3",
   "version": "3.8.3"
  }
 },
 "nbformat": 4,
 "nbformat_minor": 4
}
